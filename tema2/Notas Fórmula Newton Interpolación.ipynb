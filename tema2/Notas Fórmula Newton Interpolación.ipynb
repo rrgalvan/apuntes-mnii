{
 "cells": [
  {
   "cell_type": "markdown",
   "metadata": {
    "slideshow": {
     "slide_type": "slide"
    }
   },
   "source": [
    "# Fórmula de Newton"
   ]
  },
  {
   "cell_type": "markdown",
   "metadata": {
    "slideshow": {
     "slide_type": "slide"
    }
   },
   "source": [
    "## Aumentar el grado del polinomio de interpolación\n",
    "- Fórmula de **Lagrange**: difícil\n",
    "- Fórmula de **Newton**: ¿cómo hacerlo fácil?"
   ]
  },
  {
   "cell_type": "markdown",
   "metadata": {
    "slideshow": {
     "slide_type": "slide"
    }
   },
   "source": [
    "### $n=0$:\n",
    "\n",
    "  - Soporte: $\\{x_0\\}$, datos: $\\{y_0\\}$\n",
    "\n",
    "  \\begin{align}p_n(x) = p_0(x) = \\alpha_0\\in\\mathbb{R}\\end{align}\n",
    "  \n",
    "  Cálculo de $\\alpha_0$: Por definición de interpolación: $y_0=p_0(x_0)=\\alpha_0$, es decir\n",
    "  \n",
    "  \\begin{align}\\alpha_0 = y_0\\end{align}"
   ]
  },
  {
   "cell_type": "markdown",
   "metadata": {
    "slideshow": {
     "slide_type": "slide"
    }
   },
   "source": [
    "  \n",
    "### $n=1$\n",
    "  - Añadimos un punto, $x_1$, para aumentar el grado del polinomio. Soporte: $\\{x_0,x_1\\}$, datos: $\\{y_0,y_1\\}$\n",
    "  \n",
    "  - Escribiremos el polinomio de una forma que nos facilite el cálculo de los coeficientes:\n",
    "\n",
    "    \\begin{align}\n",
    "    p_n(x) = p_1(x) = \\alpha_0 + \\alpha_1(x-x_0), \\quad \\alpha_0, \\alpha_1 \\in \\mathbb{R} \n",
    "    \\end{align}\n",
    "    \n",
    "  - Así se sigue teniendo $y_0=p_n(x_0)=\\alpha_0$\n",
    "  - Respecto a $\\alpha_1$, podemos hacer\n",
    "      $$\n",
    "      y_1=p_1(x_1) = \\alpha_0 + \\alpha_1(x_1-x_0) \\Rightarrow \\alpha_1 = \\frac{y_1-\\alpha_0}{x_1-x_0}\n",
    "      = \\frac{y_1-y_0}{x_1-x_0}\n",
    "      $$\n",
    "      "
   ]
  },
  {
   "cell_type": "markdown",
   "metadata": {
    "slideshow": {
     "slide_type": "fragment"
    }
   },
   "source": [
    "  - El coeficiente $\\alpha_0$ **no varía**\n",
    "  - El coeficiente $\\alpha_1$ es la **pendiente** (¡derivada primera!), calculada usando los primeros puntos de interpolación $(x_0,y_0)$, $(x_1,y_1)$"
   ]
  },
  {
   "cell_type": "markdown",
   "metadata": {
    "slideshow": {
     "slide_type": "slide"
    }
   },
   "source": [
    "### Caso general, $n\\in\\mathbb N$:\n",
    "  - Soporte: $\\{x_0,x_1,\\dots,x_n\\}$, datos: $\\{y_0,y_1,\\dots,x_n\\}$\n",
    "  - Expresión del polinomio: \n",
    "    \n",
    "    \\begin{align}\n",
    "    p_n(x) = p_1(x) = \\alpha_0 &+ \\alpha_1(x-x_0) + \\alpha_2(x-x_0)(x-x_1) + \\cdots \n",
    "    \\\\\n",
    "    \\cdots &+ \\alpha_n(x-x_0)(x-x_1)\\cdots(x-x_{n-1}), \\quad \\alpha_i \\in \\mathbb{R}\n",
    "    \\end{align}\n",
    "  - Los coeficientes $\\alpha_0$, $\\alpha_1$, \\dots, $\\alpha_{n-1}$ coinciden con los de $p_{n-1}(x)$ \n",
    "  - El coeficiente $\\alpha_n$ es la \"derivada $n-$ésima\" (calculada usando los datos $(x_i,y_i)$"
   ]
  },
  {
   "cell_type": "markdown",
   "metadata": {
    "slideshow": {
     "slide_type": "fragment"
    }
   },
   "source": [
    "<center>\n",
    "Pero, ¿cómo calcular esta \"derivada $n-$ésima\"\n",
    "<br/>\n",
    "usando los datos $(x_i,y_i)$?\n",
    "</center>"
   ]
  },
  {
   "cell_type": "markdown",
   "metadata": {
    "slideshow": {
     "slide_type": "fragment"
    }
   },
   "source": [
    "<center>\n",
    "    Usando <b>Diferencias divididas de Newton</b>\n",
    "</center>"
   ]
  }
 ],
 "metadata": {
  "celltoolbar": "Slideshow",
  "kernelspec": {
   "display_name": "Python 3",
   "language": "python",
   "name": "python3"
  },
  "language_info": {
   "codemirror_mode": {
    "name": "ipython",
    "version": 3
   },
   "file_extension": ".py",
   "mimetype": "text/x-python",
   "name": "python",
   "nbconvert_exporter": "python",
   "pygments_lexer": "ipython3",
   "version": "3.8.2"
  }
 },
 "nbformat": 4,
 "nbformat_minor": 4
}
