{
 "cells": [
  {
   "cell_type": "markdown",
   "metadata": {},
   "source": [
    "# Tema 3. Clases de Méto2Numéricos"
   ]
  },
  {
   "cell_type": "markdown",
   "metadata": {},
   "source": [
    "**Objetivo:** Aproximación numérica de $$\\int_a^b f(x) dx$$\n",
    "![ingegral de f](tema3/fc-trapecio.png)"
   ]
  },
  {
   "cell_type": "markdown",
   "metadata": {},
   "source": [
    "**Idea**\n",
    "1. $f(x)\\simeq p_n(x)$.\n",
    "Aproximación de $f$ por el ***polinomio de interpolación*** de Lagrange\n",
    "2. $\\int_a^b f(x) dx \\simeq \\int_a^b p_n(x) dx$.\n",
    "Fórmula de cuadratura de tipo interpolatorio"
   ]
  },
  {
   "cell_type": "markdown",
   "metadata": {},
   "source": [
    "$$\n",
    "\\int_0^1 e^{x^2} dx={\\large\\bf ?}\n",
    "$$"
   ]
  },
  {
   "cell_type": "markdown",
   "metadata": {},
   "source": [
    "Dada $f(x)$, consideramos el polinomio de Lagrange en $\\{x_i\\}_{i=0}^n$:\n",
    "$$\n",
    "p_h(x) = \\sum_{i=0}^n y_i L_i(x),\n",
    "$$\n",
    "donde $L_i(x)=\\frac{(x-x_0)\\cdots(x-x_{i-1}) (x-x_{i+1})\\cdots(x-x_n)}{(x_i-x_0)\\cdots(x_i-x_{i-1}) (x_i-x_{i+1})\\cdots(x_i-x_n)}$ base Lagrange e $y_i=f(x_i)$."
   ]
  },
  {
   "cell_type": "markdown",
   "metadata": {},
   "source": [
    "Entonces\n",
    "\n",
    "$$\n",
    "\\int_a^b f(x) dx \\simeq \\int_a^b p_h(x) = \\int_a^b \\sum_{i=0}^n y_i L_i(x) =  \\sum_{i=0}^n  f(x_i) \\int_a^b  L_i(x)\n",
    "$$"
   ]
  },
  {
   "cell_type": "markdown",
   "metadata": {},
   "source": [
    "Si \n",
    "\\begin{equation}\n",
    "\\tag{Pesos Interpolatorios}\n",
    "    w_i=\\int_a^b  L_i(x)\n",
    "\\end{equation}\n",
    "entonces llego a\n",
    "$$\n",
    "\\int_a^b f(x) dx \\simeq \\sum_{i=0}^n  w_i f(x_i)\n",
    "$$\n",
    "\n",
    "A cualquier expresión del tipo\n",
    "$$\n",
    "\\sum_{i=0}^n  w_i f(x_i),\n",
    "$$\n",
    "se le llama *fórmula de cuadratura*. A los $w_i$ se les llama pesos.\n",
    "\n",
    "**Cuestión**:\n",
    "- ¿Cuáles son los $w_i$ \"óptimos\"? Es decir...\n",
    "- ¿Para aproximar la integral, se pueden utilizar pesos $w_i$ \"**mejores**\" que los de tipo interpolatorio anteriores?"
   ]
  },
  {
   "cell_type": "markdown",
   "metadata": {},
   "source": [
    "- **Definición** (orden de una f.c.):\n",
    "\n",
    "- **Proposición** (cálculo del orden en la práctica)\n",
    "\n",
    "F.C. Orden $m$ si E(p)=0 para todos los polinomios de grado (menor o igual a) $m$ (y no para alguno de grado $m+1$)\n",
    "\n",
    "- Si orden $m$, entonces $E(x^k)=0, \\forall k=0,...m$. Y además el $E(x^{m+1})\\neq 0$\n",
    "   \\begin{align}\n",
    "   p(x) &= a_0 + a_1x + ... + a_m x^m + a_{m+1} x^{m+1}\n",
    "   \\\\\n",
    "   E(p) &\\le |a_0| E(1) + |a_1| E(x) + ... + |a_m| E(x^m) + |a_{m+1}| E(x^{m+1})\n",
    "   \\end{align}\n",
    "- La implicación inversa también es cierta (ejercicio)\n",
    "   "
   ]
  },
  {
   "cell_type": "markdown",
   "metadata": {},
   "source": [
    "### Ejemplo: Orden de la f.c. del punto medio ($n=0$)\n",
    "Consideremos la f.c.\n",
    "$$\n",
    "I_n = I_0 = w_0 f(x_0), \\quad\\text{donde } x_0 = (a+b)/2 \\quad\\text{ (punto medio) }\n",
    "$$\n",
    "y el (único) pesos $w_0$ se escoge de interpolatoria:\n",
    "$$\n",
    "w_0 = \\int_a^b L_0(x)\n",
    "$$\n",
    "donde $L_0$ el único polinomo de grado $1$ tal que $L_0(x_j)=\\delta_{0,j}$\n",
    "$$\n",
    "L_0 = 1\n",
    "$$\n",
    "Entonces el valor de $w_0$ es:\n",
    "$$\n",
    "w_0 = \\int_a^b 1 = (b-a).\n",
    "$$\n",
    "La f.c. es:\n",
    "$$w_0 f(x_0)=(b-a)f( \\frac{a+b}2 )$$"
   ]
  },
  {
   "cell_type": "code",
   "execution_count": 1,
   "metadata": {},
   "outputs": [
    {
     "data": {
      "text/plain": [
       "<matplotlib.legend.Legend at 0x7f741a0e7f70>"
      ]
     },
     "execution_count": 1,
     "metadata": {},
     "output_type": "execute_result"
    },
    {
     "data": {
      "image/png": "[encoded data removed]",
      "text/plain": [
       "<Figure size 432x288 with 1 Axes>"
      ]
     },
     "metadata": {
      "needs_background": "light"
     },
     "output_type": "display_data"
    }
   ],
   "source": [
    "import numpy as np\n",
    "import matplotlib.pylab as plt\n",
    "\n",
    "f = lambda x: 2+np.cos(x)*np.sin(1+x) * x**2\n",
    "#f = lambda x: np.sqrt(1-x**2) # x**2 + y**2 = 1\n",
    "a, b = -1, 1\n",
    "x = np.linspace(a,b)\n",
    "plt.plot(x, f(x), lw=3, c='r', label='f(x)')\n",
    "\n",
    "# f.c. punto medio: I_n(f) = w_0*f(x_0) = (b-a)*f( (a+b)/2 )\n",
    "x0=(a+b)/2 # punto medio\n",
    "plt.plot(x0,f(x0),'o',markersize=10, label='f( (a+b)/2 )')\n",
    "plt.plot([a,b], [f(a), f(b)] )\n",
    "plt.legend()\n",
    "\n"
   ]
  },
  {
   "cell_type": "markdown",
   "metadata": {},
   "source": [
    "### Ejercicio 1: F.c. de los trapecios ($n=1$)\n",
    "\n",
    "- Deducir la f.c. a partir del área del trapecio con base [a,b] y aturas f(a) y f(b).\n",
    " - base1  = f(a)\n",
    " - base2  = f(b)\n",
    " - altura = (b-a)\n",
    " - área del trapecio: (b-a)*( f(a)+f(b) ) /2\n",
    "\n",
    "- Comprobar que la siguiente fórmula (f.c. trapecios) es de tipo interpolatorio\n",
    " - Tomamos x_0=a, x_1=b (n=1)\n",
    " - Pesos de la f.c. de tipo interpolatorio:\n",
    "   - $L_0(x) = (x-x_1)/(x_0-x_1)$\n",
    "   - $L_1(x) = (x-x_0)/(x_1-x_0)$\n",
    "\\begin{align}\n",
    " w_0 &= \\int_a^b L_0(x) dx = \\frac{1}{x_0-x_1} \\int_a^b(x-x_1)dx =\n",
    " \\frac{1}{a-b} \\int_a^b(x-b)dx\n",
    " \\\\\n",
    "  &=\n",
    " \\frac{1}{a-b} (x^2/2-b x)|_a^b =\n",
    " \\frac{1}{a-b} \\big( (b^2/2-b^2) - a^2/2+ab) \\big) \n",
    " \\\\\n",
    " &= \n",
    " \\frac{-1}{2(a-b)} \\big( b^2 + a^2-2ab) \\big) = \\frac{-1}{2(a-b)} (a-b)^2 = \\frac{(b-a)}{2}\n",
    "\\\\\n",
    " w_1&=... \\text{ (similarmente) } ...= \\frac{(b-a)}{2}\n",
    "\\end{align}\n",
    " \n",
    "- Estudiar su orden\n",
    " - Ver que el orden es 1 (ejemplo 1.5 Tema 2)."
   ]
  },
  {
   "cell_type": "markdown",
   "metadata": {},
   "source": [
    "### Ejercicio 2: Calcular el orden de la f.c. de Simpson ($n=2$)"
   ]
  },
  {
   "cell_type": "markdown",
   "metadata": {},
   "source": [
    "## Fórmulas de cuadratura de Newton-Côtes\n",
    "\n",
    "### a) Cerradas\n",
    "\n"
   ]
  },
  {
   "cell_type": "code",
   "execution_count": 2,
   "metadata": {},
   "outputs": [
    {
     "data": {
      "image/png": "[encoded data removed]",
      "text/plain": [
       "<Figure size 800x200 with 1 Axes>"
      ]
     },
     "metadata": {
      "needs_background": "light"
     },
     "output_type": "display_data"
    }
   ],
   "source": [
    "fig, ax = plt. subplots()\n",
    "fig.set_size_inches(8,2)\n",
    "fig.set_dpi(100)\n",
    "ax.axis(\"off\")\n",
    "yMin, yMax = -5, 5\n",
    "plt.ylim(yMin,yMax)\n",
    "\n",
    "a, b = 0, 1\n",
    "n=4 # Número de subintervalos \n",
    "x = np.linspace(a,b,n+1) # Número de puntos es n+1\n",
    "y = np.zeros(n+1)\n",
    "ytext = yMin/2\n",
    "\n",
    "# Intervalo\n",
    "plt.plot(x,y, lw=2)\n",
    "plt.plot(x,y,\"s\", c=\"orange\", markersize=5)\n",
    "# Etiquetas\n",
    "plt.text(a, ytext, \"$a=x_0$\")\n",
    "plt.text(b, ytext, f\"$b=x_4=x_n$\")\n",
    "for i in range(1,n):\n",
    "    plt.text(x[i], ytext, f\"$x_{i}$\")\n",
    "    \n",
    "# h\n",
    "yh = -yMax/1\n",
    "plt.plot([x[1],x[2]],[yh,yh], \"^-\", c=\"g\", markersize=7)\n",
    "plt.text( x=(x[1]+x[2])/2.3, y=1.33*yh, s=r\"$h=\\frac{b-a}{n}$\", c=\"g\")\n",
    "\n",
    "plt.title(f\"Fórmula de cuadratura cerrada n={n}\")\n",
    "plt.show()"
   ]
  },
  {
   "cell_type": "code",
   "execution_count": 3,
   "metadata": {},
   "outputs": [
    {
     "data": {
      "image/png": "[encoded data removed]",
      "text/plain": [
       "<Figure size 800x200 with 1 Axes>"
      ]
     },
     "metadata": {
      "needs_background": "light"
     },
     "output_type": "display_data"
    }
   ],
   "source": [
    "fig, ax = plt. subplots()\n",
    "fig.set_size_inches(8,2)\n",
    "fig.set_dpi(100)\n",
    "ax.axis(\"off\")\n",
    "yMin, yMax = -5, 5\n",
    "plt.ylim(yMin,yMax)\n",
    "\n",
    "a, b = 0, 1\n",
    "n=4 # Número de subintervalos: n+2 = 6 (4 interiores, 2 en los extremos)\n",
    "h=(b-a)/(n+2)\n",
    "x = np.linspace(a+h,b-h,n+1) # Número de puntos interiores\n",
    "y = np.zeros(n+1)\n",
    "ytext = yMin/2\n",
    "\n",
    "x_extendida = [a,b]\n",
    "y_extendida = [0,0]\n",
    "plt.plot(x_extendida, y_extendida, \"o-\", c=\"gray\")\n",
    "\n",
    "\n",
    "# Intervalo\n",
    "plt.plot(x,y, lw=2)\n",
    "plt.plot(x,y,\"s\", c=\"orange\", markersize=5)\n",
    "\n",
    "# Etiquetas\n",
    "plt.text(a, ytext, \"$a$\")\n",
    "plt.text(b, ytext, f\"$b$\")\n",
    "for i in range(0,n+1):\n",
    "    plt.text(x[i], ytext, f\"$x_{i}$\")\n",
    "    \n",
    "# h\n",
    "yh = -yMax/1\n",
    "plt.plot([x[1],x[2]],[yh,yh], \"^-\", c=\"g\", markersize=7)\n",
    "plt.text( x=(x[1]+x[2])/2.25, y=1.33*yh, s=r\"$h=\\frac{b-a}{n+2}$\", c=\"g\")\n",
    "\n",
    "plt.title(f\"Fórmula de cuadratura abierta n={n}\")\n",
    "plt.show()"
   ]
  },
  {
   "cell_type": "markdown",
   "metadata": {},
   "source": [
    "## Desarrollo del Teorema 3.2 en función de $n$\n",
    "\n",
    "- Si $n$ es **par**, el error de integración es:\n",
    "$$\n",
    "    E_n(f)=\\gamma_n \\frac{h^{n+3}}{(n+2)!}f^{n+2)}(\\xi)\n",
    "$$\n",
    "- Si $n$ es **impar**, el error de integración es:\n",
    "$$\n",
    "    E_n(f)=\\gamma_n \\frac{h^{n+2}}{(n+1)!}f^{n+1)}(\\xi)\n",
    "$$\n"
   ]
  },
  {
   "cell_type": "markdown",
   "metadata": {},
   "source": [
    "#### Consecuencia:\n",
    "* n=0 (orden al menos 1)\n",
    "  n es par, error:\n",
    "  $$\n",
    "  E_0(f)=\\gamma_0 \\frac {h^3}{2!} f^{2)}(\\xi)\n",
    "  $$ \n",
    "  - $f(x)=x^0=1$, entonces $f''=0$ luego $E_0=0$ \n",
    "  - $f(x)=x^1=x$, entonces $f''=0$ luego $E_0=0$ \n",
    "  - $f(x)=x^2$, entonces $f''=2$ luego $E_0\\neq 0$ \n",
    "  \n",
    "  Luego la f.c. tiene **orden 1**\n",
    "* n=1\n",
    "  n es impar. Error:\n",
    "  $$\n",
    "  E_1(f)=\\gamma_1 \\frac {h^3}{2!} f^{2)}(\\xi)\n",
    "  $$ \n",
    "  - $f(x)=x^0=1$, entonces $f''=0$ luego $E_1=0$ \n",
    "  - $f(x)=x^1=x$, entonces $f''=0$ luego $E_1=0$ \n",
    "  - $f(x)=x^2$, entonces $f''=2$ luego $E_1\\neq 0$ \n",
    "  \n",
    "  Luego la f.c. tiene **orden 1**\n",
    "* n=2: orden 3 por el siguiente motivo:\n",
    "  n es par, error:\n",
    "  $$\n",
    "  E_2(f)=\\gamma_2 \\frac {h^5}{4!} f^{4)}(\\xi)\n",
    "  $$ \n",
    "  - $f(x)=x^0=1$, entonces $f^{4)}=0$ luego $E_2=0$ \n",
    "  - $f(x)=x^1=x$, entonces $f^{4)}=0$ luego $E_2=0$ \n",
    "  - $f(x)=x^2$, entonces $f^{4)}=0$ luego $E_2=0$ \n",
    "  - $f(x)=x^3$, entonces $f^{4)}=0$ luego $E_2=0$ \n",
    "  - $f(x)=x^4$, entonces $f^{4)}=4!$ luego $E_2\\neq 0$ \n",
    "\n",
    "  Luego la f.c. tiene **orden 3**\n",
    "* n=3: orden 3\n",
    "* n=4: orden 5\n",
    "* ..."
   ]
  },
  {
   "cell_type": "markdown",
   "metadata": {},
   "source": [
    "## Fórmulas de cuadraturas compuestas"
   ]
  },
  {
   "cell_type": "markdown",
   "metadata": {},
   "source": [
    "### Desarrollo de una f.c. compupesta\n",
    "\n",
    "- **Objetivo 1**: Denterminar nodos $x_i$ y pesos $\\omega_i$ para los que la f.c. compuesta se puede escribir como\n",
    "$$\n",
    "I(f) = \\sum_i \\omega_i f(x_i) + E(f)\n",
    "$$\n",
    "    1. Partimos de una f.c. sencilla, que aplicamos a cada intervalo $[x_{i-1},x_i]$:\n",
    "    $$I_m(f)=\\sum_{j=0}^m w_i f(x_j^{(i)})$$\n",
    "    2. Dibujamos los nodos en todos los intervalos, $[\\bar x_0, \\bar x_1]$,..., $[\\bar x_{N-1},x_N]$:\n",
    "    $$\n",
    "    $$\n",
    "    $$ \n",
    "    x_0^{(1)},x_1^{(1)},...,x_m^{(1)},...\\quad\n",
    "    x_0^{(i)},x_1^{(i)},...,x_m^{(i)},...\\quad\n",
    "    x_0^{(N)},x_1^{(N)},...,x_m^{(N)} \n",
    "    $$\n",
    "    $$\n",
    "    $$\n",
    "    3. Los enumeramos y expresamos la forma de calcularlos (reutilizo el ínice i):\n",
    "    $$\n",
    "    x_0, x_1, ...,x_i, ..., x_n\n",
    "    $$\n",
    "    4. Calculamos los nuevos pesos $w_i$ tales que\n",
    "    $$\n",
    "    \\sum_{i=0}^n \\omega_i f(x_i) \\quad=\\quad\n",
    "    \\sum_{j=0}^m w_i' f(x_j^{(1)}) + \\sum_{j=0}^m w_i' f(x_j^{(2)}) + \\cdots + \\sum_{j=0}^m w_i' f(x_j^{(N)})\n",
    "    $$   \n",
    "- **Objetivo 2**: Calcular una expresión del error $E(f)$ en función de $h$ (distancia entre los nodos de cuadratura $x_i$)\n"
   ]
  },
  {
   "cell_type": "code",
   "execution_count": 5,
   "metadata": {},
   "outputs": [
    {
     "data": {
      "image/png": "[encoded data removed]",
      "text/plain": [
       "<Figure size 1000x200 with 1 Axes>"
      ]
     },
     "metadata": {
      "needs_background": "light"
     },
     "output_type": "display_data"
    }
   ],
   "source": [
    "fig, ax = plt. subplots()\n",
    "fig.set_size_inches(10,2)\n",
    "fig.set_dpi(100)\n",
    "ax.axis(\"off\")\n",
    "yMin, yMax = -5, 5\n",
    "plt.ylim(yMin,yMax)\n",
    "\n",
    "a, b = 0, 1\n",
    "N=4 # Número de subintervalos \n",
    "x = np.linspace(a,b,N+1) # Número de puntos es n+1\n",
    "y = np.zeros(N+1)\n",
    "\n",
    "# Intervalo\n",
    "plt.plot(x,y, lw=2, c=\"green\")\n",
    "plt.plot(x,y,\"|\", c=\"red\", markersize=12)\n",
    "\n",
    "# Etiquetas\n",
    "ytext = yMin/2\n",
    "plt.text(a, ytext, r\"$a=\\bar x_0$\")\n",
    "plt.text(b, ytext, f\"$b=\\bar x_4=\\bar x_N$\")\n",
    "for i in range(1,N):\n",
    "    plt.text(x[i], ytext, rf\"$\\bar x_{i}$\")\n",
    "    \n",
    "# H\n",
    "yh = -yMax/1\n",
    "plt.plot([x[1],x[2]],[yh,yh], \"d-\", c=\"darkblue\", markersize=7)\n",
    "plt.text( x=(x[1]+x[2])/2.6, y=1.33*yh, \n",
    "         s=r\"$\\bar x_i -\\bar x_{i-1}\\ =\\ \\frac{b-a}{N}$\", c=\"darkblue\")\n",
    "\n",
    "# F.c en subintervalos\n",
    "ytext = yMax/6\n",
    "n=1\n",
    "h = (b-a)/(N*(n+2)) # F.c. abierta\n",
    "k = 0\n",
    "for i in range(1,N+1):\n",
    "    x_i = np.linspace(x[i-1]+h, x[i]-h, (n+1))\n",
    "    y_i = np.zeros(n+1)\n",
    "    for j in range(n+1):\n",
    "        plt.plot(x_i,y_i, 'o', c=\"orange\")\n",
    "        plt.text(x_i[j], ytext, rf\"$x_{k}$\")\n",
    "        k = k+1\n",
    "\n",
    "        \n",
    "# h\n",
    "yh = yMax/2.2\n",
    "plt.plot([x[0]+h,x[0]+2*h],[yh,yh], \"d-\", c=\"darkblue\", lw=0.8, markersize=3)\n",
    "plt.text( x=(x[0]+0.8*h), y=1.5*yh, \n",
    "         s=r\"$h\\ =\\ \\frac{x_i - x_{i-1}}{n+2}$\", c=\"darkblue\")\n",
    "\n",
    "\n",
    "plt.title(f\"Fórmula de cuadratura compuesta N=4 (abierta n=1)\")\n",
    "plt.show()"
   ]
  },
  {
   "cell_type": "markdown",
   "metadata": {},
   "source": [
    "### F.C compuesta punto medio\n",
    "En la f.c. del punto medio (Newton-Côtes abierta) tenemos un solo punto de integración ($n=0$).\n",
    "\n",
    "La aplicamos en $N$ subintervalos:\n",
    "\n",
    "- N=1: consideramos un único intervalo en $[a,b]$, es decir $[a,b]=[\\bar x_{0},\\bar x_1]$. Denotamos $x_1=a+h$ al punto medio, donde\n",
    "   $$\n",
    "    h=\\frac{\\bar x_{i-1}-\\bar x_i}2\n",
    "    $$\n",
    "Así se tiene la f.c:\n",
    "$$\n",
    "\\int_a^b f(x) \\approx 2h f_1\n",
    "$$\n",
    "- N=2: dividiomos en 2 subintervalos:\n",
    "$$ [a,b]=[\\bar x_{0},\\bar x_1]\\cup [\\bar x_{1},\\bar x_2]$$\n",
    "Identificamos la expresión de los puntos medios: \n",
    "    $$\n",
    "    h=\\frac{\\bar x_{i-1}-\\bar x_i}2 = \\frac{b-a}{2N} =\\frac{b-a}{4},\n",
    "    $$\n",
    "    - $x_1=a+h$, \n",
    "    - $x_2=a+3h$\n",
    "\n",
    "$$\n",
    "\\int_a^b f(x) \\approx 2h (f_1 + f_2)\n",
    "$$\n",
    "\n",
    "- Caso general ($N\\in \\mathbb{N}$)..."
   ]
  },
  {
   "cell_type": "markdown",
   "metadata": {},
   "source": [
    "- $N=1: [a,b]=[\\bar x_0, \\bar x_1]$\n",
    "    - Aplicamos f.c. pto medio para cada N subintervalos\n",
    "    - $$\\int_a^b f(x) \\approx 2h f(x_1)$$ $x_1 = \\frac{\\bar x_0 + \\bar x_1}2$\n",
    "    - $h=\\frac{b-a} {2N}$\n",
    "- $N=2: [a,b]=[\\bar x_0, \\bar x_1]$\n",
    "    - Aplicamos f.c. pto medio para cada N subintervalos\n",
    "    - $$\\int_a^b f(x) \\approx 2h f(x_1)$$ $x_1 = \\frac{\\bar x_0 + \\bar x_1}2$\n",
    "    - $h=\\frac{b-a} {2N}$"
   ]
  },
  {
   "cell_type": "markdown",
   "metadata": {},
   "source": [
    "## Resumen f.c. compuestas\n",
    "\n",
    "##### Paso 1\n",
    "$$\n",
    "[a,b] = [\\bar x_0, \\bar x_1] \\cup \\cdots \\cup [\\bar x_{N-1}, \\bar x_N]\n",
    "$$\n",
    "$N$ subintervalos de tamaño $(b-a)/N$\n",
    "##### Paso 2\n",
    "F.c. abierta o cerrada en cada $[\\bar x_{i-1}, \\bar x_i]$ (utilizando $n+1$ nodos, $x_0$,...$x_n$, con $h=x_{i}-x_{i-1}$)\n",
    "- Si la f.c. es cerrada:\n",
    "$$\n",
    "h = x_{i}-x_{i-1} = \\frac{\\bar x_{i-1} - \\bar x_i}n = \\frac{(b-a)/N}n = \\frac{(b-a)}{N \\cdot n}\n",
    "$$\n",
    "- Si la f.c. es abierta:\n",
    "$$\n",
    "h = x_{i}-x_{i-1} = \\frac{\\bar x_{i-1} - \\bar x_i}{n+2} = \\frac{(b-a)/N}{n+2}= \\frac{(b-a)}{N \\cdot (n+2)}\n",
    "$$"
   ]
  },
  {
   "cell_type": "markdown",
   "metadata": {},
   "source": [
    "**Ejemplo:** En el caso de la f.c. punto medio, f.c. abierta, $n=0$:\n",
    "\n",
    "$$\n",
    "h = \\frac{b-a}{N (n+2)} = \\frac{b-a}{N (0+2)}= \\frac{b-a}{2N}\n",
    "$$\n",
    "o bien:\n",
    "$$\n",
    "N=\\frac{b-a}{2h}\n",
    "$$"
   ]
  },
  {
   "cell_type": "code",
   "execution_count": null,
   "metadata": {},
   "outputs": [],
   "source": []
  }
 ],
 "metadata": {
  "@webio": {
   "lastCommId": null,
   "lastKernelId": null
  },
  "kernelspec": {
   "display_name": "Python 3",
   "language": "python",
   "name": "python3"
  },
  "language_info": {
   "codemirror_mode": {
    "name": "ipython",
    "version": 3
   },
   "file_extension": ".py",
   "mimetype": "text/x-python",
   "name": "python",
   "nbconvert_exporter": "python",
   "pygments_lexer": "ipython3",
   "version": "3.8.2"
  }
 },
 "nbformat": 4,
 "nbformat_minor": 4
}
